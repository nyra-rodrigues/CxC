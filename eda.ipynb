{
 "cells": [
  {
   "cell_type": "code",
   "execution_count": 33,
   "metadata": {},
   "outputs": [],
   "source": [
    "import pandas as pd\n",
    "import numpy as np\n",
    "import seaborn as sns \n",
    "import matplotlib.pyplot as plt"
   ]
  },
  {
   "cell_type": "code",
   "execution_count": 1,
   "metadata": {},
   "outputs": [],
   "source": [
    "import pandas as pd\n",
    "\n",
    "file_path1 = '2024combined_file.csv'\n",
    "file_path2 = '2025combined_file.csv'\n",
    "\n",
    "df1 = pd.read_csv(file_path1)\n",
    "df2 = pd.read_csv(file_path2)\n",
    "\n",
    "df = pd.concat([df1, df2], ignore_index=True)\n"
   ]
  },
  {
   "cell_type": "code",
   "execution_count": 2,
   "metadata": {},
   "outputs": [
    {
     "data": {
      "text/html": [
       "<div>\n",
       "<style scoped>\n",
       "    .dataframe tbody tr th:only-of-type {\n",
       "        vertical-align: middle;\n",
       "    }\n",
       "\n",
       "    .dataframe tbody tr th {\n",
       "        vertical-align: top;\n",
       "    }\n",
       "\n",
       "    .dataframe thead th {\n",
       "        text-align: right;\n",
       "    }\n",
       "</style>\n",
       "<table border=\"1\" class=\"dataframe\">\n",
       "  <thead>\n",
       "    <tr style=\"text-align: right;\">\n",
       "      <th></th>\n",
       "      <th>$insert_id</th>\n",
       "      <th>amplitude_id</th>\n",
       "      <th>app</th>\n",
       "      <th>city</th>\n",
       "      <th>client_event_time</th>\n",
       "      <th>client_upload_time</th>\n",
       "      <th>country</th>\n",
       "      <th>data</th>\n",
       "      <th>data_type</th>\n",
       "      <th>device_family</th>\n",
       "      <th>...</th>\n",
       "      <th>os_version</th>\n",
       "      <th>platform</th>\n",
       "      <th>processed_time</th>\n",
       "      <th>region</th>\n",
       "      <th>server_received_time</th>\n",
       "      <th>server_upload_time</th>\n",
       "      <th>session_id</th>\n",
       "      <th>user_id</th>\n",
       "      <th>user_properties</th>\n",
       "      <th>uuid</th>\n",
       "    </tr>\n",
       "  </thead>\n",
       "  <tbody>\n",
       "    <tr>\n",
       "      <th>0</th>\n",
       "      <td>ccb04252-a1ce-408a-b1a2-a3573ea4917d</td>\n",
       "      <td>864218414211</td>\n",
       "      <td>591532</td>\n",
       "      <td>Spring</td>\n",
       "      <td>2024-06-17 20:33:48.109000</td>\n",
       "      <td>2024-06-17 20:33:49.713000</td>\n",
       "      <td>United States</td>\n",
       "      <td>{'path': '/2/httpapi', 'group_first_event': {}...</td>\n",
       "      <td>event</td>\n",
       "      <td>Mac OS X</td>\n",
       "      <td>...</td>\n",
       "      <td>119</td>\n",
       "      <td>Web</td>\n",
       "      <td>2024-06-17 20:33:49.895000</td>\n",
       "      <td>Texas</td>\n",
       "      <td>2024-06-17 20:33:49.713000</td>\n",
       "      <td>2024-06-17 20:33:49.717000</td>\n",
       "      <td>1718650922298</td>\n",
       "      <td>2db3ef42-46f0-4856-a55d-b202565c7090</td>\n",
       "      <td>{'initial_utm_medium': 'EMPTY', 'initial_refer...</td>\n",
       "      <td>a4e18a7c-e721-407a-a507-4c0eaf4f45d4</td>\n",
       "    </tr>\n",
       "    <tr>\n",
       "      <th>1</th>\n",
       "      <td>b8759f20-fec3-4387-a4e2-00f82925115c</td>\n",
       "      <td>864218414211</td>\n",
       "      <td>591532</td>\n",
       "      <td>Spring</td>\n",
       "      <td>2024-06-17 20:33:48.111000</td>\n",
       "      <td>2024-06-17 20:33:49.713000</td>\n",
       "      <td>United States</td>\n",
       "      <td>{'path': '/2/httpapi', 'group_first_event': {}...</td>\n",
       "      <td>event</td>\n",
       "      <td>Mac OS X</td>\n",
       "      <td>...</td>\n",
       "      <td>119</td>\n",
       "      <td>Web</td>\n",
       "      <td>2024-06-17 20:33:49.895000</td>\n",
       "      <td>Texas</td>\n",
       "      <td>2024-06-17 20:33:49.713000</td>\n",
       "      <td>2024-06-17 20:33:49.717000</td>\n",
       "      <td>1718650922298</td>\n",
       "      <td>2db3ef42-46f0-4856-a55d-b202565c7090</td>\n",
       "      <td>{'initial_utm_medium': 'EMPTY', 'initial_refer...</td>\n",
       "      <td>8276821f-ade8-46a3-9496-5e4fd10c3aa5</td>\n",
       "    </tr>\n",
       "    <tr>\n",
       "      <th>2</th>\n",
       "      <td>b8c5ccb7-c60b-41fa-9319-ef980bc10975</td>\n",
       "      <td>864218414211</td>\n",
       "      <td>591532</td>\n",
       "      <td>Spring</td>\n",
       "      <td>2024-06-17 20:33:50.024000</td>\n",
       "      <td>2024-06-17 20:33:51.100000</td>\n",
       "      <td>United States</td>\n",
       "      <td>{'path': '/2/httpapi', 'group_first_event': {}...</td>\n",
       "      <td>event</td>\n",
       "      <td>Mac OS X</td>\n",
       "      <td>...</td>\n",
       "      <td>119</td>\n",
       "      <td>Web</td>\n",
       "      <td>2024-06-17 20:33:51.438000</td>\n",
       "      <td>Texas</td>\n",
       "      <td>2024-06-17 20:33:51.100000</td>\n",
       "      <td>2024-06-17 20:33:51.103000</td>\n",
       "      <td>1718650922298</td>\n",
       "      <td>2db3ef42-46f0-4856-a55d-b202565c7090</td>\n",
       "      <td>{'initial_utm_medium': 'EMPTY', 'initial_refer...</td>\n",
       "      <td>186d75e3-67c3-4806-96c9-17e73267fed4</td>\n",
       "    </tr>\n",
       "    <tr>\n",
       "      <th>3</th>\n",
       "      <td>6b6b6eb6-b80b-4549-8d68-d61d8850a10f</td>\n",
       "      <td>864218414211</td>\n",
       "      <td>591532</td>\n",
       "      <td>Spring</td>\n",
       "      <td>2024-06-17 20:34:01.488000</td>\n",
       "      <td>2024-06-17 20:34:02.649000</td>\n",
       "      <td>United States</td>\n",
       "      <td>{'path': '/2/httpapi', 'group_first_event': {}...</td>\n",
       "      <td>event</td>\n",
       "      <td>Mac OS X</td>\n",
       "      <td>...</td>\n",
       "      <td>119</td>\n",
       "      <td>Web</td>\n",
       "      <td>2024-06-17 20:34:03.105000</td>\n",
       "      <td>Texas</td>\n",
       "      <td>2024-06-17 20:34:02.649000</td>\n",
       "      <td>2024-06-17 20:34:02.652000</td>\n",
       "      <td>1718650922298</td>\n",
       "      <td>2db3ef42-46f0-4856-a55d-b202565c7090</td>\n",
       "      <td>{'initial_utm_medium': 'EMPTY', 'initial_refer...</td>\n",
       "      <td>872efa1a-62c2-4c0a-9b0a-ce7dcc68d63d</td>\n",
       "    </tr>\n",
       "    <tr>\n",
       "      <th>4</th>\n",
       "      <td>aa09273f-2938-44fd-ac62-40cfcbd2d130</td>\n",
       "      <td>864218414211</td>\n",
       "      <td>591532</td>\n",
       "      <td>Spring</td>\n",
       "      <td>2024-06-17 20:34:02.393000</td>\n",
       "      <td>2024-06-17 20:34:07.056000</td>\n",
       "      <td>United States</td>\n",
       "      <td>{'path': '/2/httpapi', 'group_first_event': {}...</td>\n",
       "      <td>event</td>\n",
       "      <td>Mac OS X</td>\n",
       "      <td>...</td>\n",
       "      <td>119</td>\n",
       "      <td>Web</td>\n",
       "      <td>2024-06-17 20:34:08.587000</td>\n",
       "      <td>Texas</td>\n",
       "      <td>2024-06-17 20:34:07.056000</td>\n",
       "      <td>2024-06-17 20:34:07.059000</td>\n",
       "      <td>1718650922298</td>\n",
       "      <td>2db3ef42-46f0-4856-a55d-b202565c7090</td>\n",
       "      <td>{'initial_utm_medium': 'EMPTY', 'initial_refer...</td>\n",
       "      <td>89e42a4c-f557-40a4-84eb-e21687be83de</td>\n",
       "    </tr>\n",
       "  </tbody>\n",
       "</table>\n",
       "<p>5 rows × 30 columns</p>\n",
       "</div>"
      ],
      "text/plain": [
       "                             $insert_id  amplitude_id     app    city  \\\n",
       "0  ccb04252-a1ce-408a-b1a2-a3573ea4917d  864218414211  591532  Spring   \n",
       "1  b8759f20-fec3-4387-a4e2-00f82925115c  864218414211  591532  Spring   \n",
       "2  b8c5ccb7-c60b-41fa-9319-ef980bc10975  864218414211  591532  Spring   \n",
       "3  6b6b6eb6-b80b-4549-8d68-d61d8850a10f  864218414211  591532  Spring   \n",
       "4  aa09273f-2938-44fd-ac62-40cfcbd2d130  864218414211  591532  Spring   \n",
       "\n",
       "            client_event_time          client_upload_time        country  \\\n",
       "0  2024-06-17 20:33:48.109000  2024-06-17 20:33:49.713000  United States   \n",
       "1  2024-06-17 20:33:48.111000  2024-06-17 20:33:49.713000  United States   \n",
       "2  2024-06-17 20:33:50.024000  2024-06-17 20:33:51.100000  United States   \n",
       "3  2024-06-17 20:34:01.488000  2024-06-17 20:34:02.649000  United States   \n",
       "4  2024-06-17 20:34:02.393000  2024-06-17 20:34:07.056000  United States   \n",
       "\n",
       "                                                data data_type device_family  \\\n",
       "0  {'path': '/2/httpapi', 'group_first_event': {}...     event      Mac OS X   \n",
       "1  {'path': '/2/httpapi', 'group_first_event': {}...     event      Mac OS X   \n",
       "2  {'path': '/2/httpapi', 'group_first_event': {}...     event      Mac OS X   \n",
       "3  {'path': '/2/httpapi', 'group_first_event': {}...     event      Mac OS X   \n",
       "4  {'path': '/2/httpapi', 'group_first_event': {}...     event      Mac OS X   \n",
       "\n",
       "   ... os_version platform              processed_time  region  \\\n",
       "0  ...        119      Web  2024-06-17 20:33:49.895000   Texas   \n",
       "1  ...        119      Web  2024-06-17 20:33:49.895000   Texas   \n",
       "2  ...        119      Web  2024-06-17 20:33:51.438000   Texas   \n",
       "3  ...        119      Web  2024-06-17 20:34:03.105000   Texas   \n",
       "4  ...        119      Web  2024-06-17 20:34:08.587000   Texas   \n",
       "\n",
       "         server_received_time          server_upload_time     session_id  \\\n",
       "0  2024-06-17 20:33:49.713000  2024-06-17 20:33:49.717000  1718650922298   \n",
       "1  2024-06-17 20:33:49.713000  2024-06-17 20:33:49.717000  1718650922298   \n",
       "2  2024-06-17 20:33:51.100000  2024-06-17 20:33:51.103000  1718650922298   \n",
       "3  2024-06-17 20:34:02.649000  2024-06-17 20:34:02.652000  1718650922298   \n",
       "4  2024-06-17 20:34:07.056000  2024-06-17 20:34:07.059000  1718650922298   \n",
       "\n",
       "                                user_id  \\\n",
       "0  2db3ef42-46f0-4856-a55d-b202565c7090   \n",
       "1  2db3ef42-46f0-4856-a55d-b202565c7090   \n",
       "2  2db3ef42-46f0-4856-a55d-b202565c7090   \n",
       "3  2db3ef42-46f0-4856-a55d-b202565c7090   \n",
       "4  2db3ef42-46f0-4856-a55d-b202565c7090   \n",
       "\n",
       "                                     user_properties  \\\n",
       "0  {'initial_utm_medium': 'EMPTY', 'initial_refer...   \n",
       "1  {'initial_utm_medium': 'EMPTY', 'initial_refer...   \n",
       "2  {'initial_utm_medium': 'EMPTY', 'initial_refer...   \n",
       "3  {'initial_utm_medium': 'EMPTY', 'initial_refer...   \n",
       "4  {'initial_utm_medium': 'EMPTY', 'initial_refer...   \n",
       "\n",
       "                                   uuid  \n",
       "0  a4e18a7c-e721-407a-a507-4c0eaf4f45d4  \n",
       "1  8276821f-ade8-46a3-9496-5e4fd10c3aa5  \n",
       "2  186d75e3-67c3-4806-96c9-17e73267fed4  \n",
       "3  872efa1a-62c2-4c0a-9b0a-ce7dcc68d63d  \n",
       "4  89e42a4c-f557-40a4-84eb-e21687be83de  \n",
       "\n",
       "[5 rows x 30 columns]"
      ]
     },
     "execution_count": 2,
     "metadata": {},
     "output_type": "execute_result"
    }
   ],
   "source": [
    "df.head()"
   ]
  },
  {
   "cell_type": "code",
   "execution_count": 3,
   "metadata": {},
   "outputs": [
    {
     "data": {
      "text/plain": [
       "Index(['$insert_id', 'amplitude_id', 'app', 'city', 'client_event_time',\n",
       "       'client_upload_time', 'country', 'data', 'data_type', 'device_family',\n",
       "       'device_id', 'device_type', 'dma', 'event_id', 'event_properties',\n",
       "       'event_time', 'event_type', 'language', 'library', 'os_name',\n",
       "       'os_version', 'platform', 'processed_time', 'region',\n",
       "       'server_received_time', 'server_upload_time', 'session_id', 'user_id',\n",
       "       'user_properties', 'uuid'],\n",
       "      dtype='object')"
      ]
     },
     "execution_count": 3,
     "metadata": {},
     "output_type": "execute_result"
    }
   ],
   "source": [
    "df.columns"
   ]
  },
  {
   "cell_type": "code",
   "execution_count": 4,
   "metadata": {},
   "outputs": [
    {
     "name": "stdout",
     "output_type": "stream",
     "text": [
      "<class 'pandas.core.frame.DataFrame'>\n",
      "RangeIndex: 2733136 entries, 0 to 2733135\n",
      "Data columns (total 30 columns):\n",
      " #   Column                Dtype \n",
      "---  ------                ----- \n",
      " 0   $insert_id            object\n",
      " 1   amplitude_id          int64 \n",
      " 2   app                   int64 \n",
      " 3   city                  object\n",
      " 4   client_event_time     object\n",
      " 5   client_upload_time    object\n",
      " 6   country               object\n",
      " 7   data                  object\n",
      " 8   data_type             object\n",
      " 9   device_family         object\n",
      " 10  device_id             object\n",
      " 11  device_type           object\n",
      " 12  dma                   object\n",
      " 13  event_id              int64 \n",
      " 14  event_properties      object\n",
      " 15  event_time            object\n",
      " 16  event_type            object\n",
      " 17  language              object\n",
      " 18  library               object\n",
      " 19  os_name               object\n",
      " 20  os_version            object\n",
      " 21  platform              object\n",
      " 22  processed_time        object\n",
      " 23  region                object\n",
      " 24  server_received_time  object\n",
      " 25  server_upload_time    object\n",
      " 26  session_id            int64 \n",
      " 27  user_id               object\n",
      " 28  user_properties       object\n",
      " 29  uuid                  object\n",
      "dtypes: int64(4), object(26)\n",
      "memory usage: 625.6+ MB\n"
     ]
    }
   ],
   "source": [
    "df.info()"
   ]
  },
  {
   "cell_type": "markdown",
   "metadata": {},
   "source": [
    "### Data Categories\n",
    "**Numerical:**\n",
    "'amplitude_id', 'app', 'event_id'\n",
    "\n",
    "**Categorical:**\n",
    "'city', 'country', 'device_family', 'device_type', 'dma', \n",
    "'event_type', 'language', 'library', 'os_name', 'os_version', \n",
    "'platform', 'region', 'user_id', 'session_id'\n",
    "\n",
    "**Datetime:**\n",
    "'client_event_time', 'client_upload_time', 'event_time', \n",
    "'server_received_time', 'server_upload_time'\n",
    "\n",
    "**Mixed:**\n",
    "'$insert_id', 'data', 'data_type', 'event_properties', 'user_properties', 'uuid'"
   ]
  },
  {
   "cell_type": "markdown",
   "metadata": {},
   "source": [
    "event_time"
   ]
  },
  {
   "cell_type": "code",
   "execution_count": 5,
   "metadata": {},
   "outputs": [
    {
     "data": {
      "text/plain": [
       "0    2024-06-17 20:33:48.109000\n",
       "1    2024-06-17 20:33:48.111000\n",
       "2    2024-06-17 20:33:50.024000\n",
       "3    2024-06-17 20:34:01.488000\n",
       "4    2024-06-17 20:34:02.393000\n",
       "Name: event_time, dtype: object"
      ]
     },
     "execution_count": 5,
     "metadata": {},
     "output_type": "execute_result"
    }
   ],
   "source": [
    "df['event_time'][:5]"
   ]
  },
  {
   "cell_type": "code",
   "execution_count": 6,
   "metadata": {},
   "outputs": [],
   "source": [
    "df['event_time'] = pd.to_datetime(df['event_time'])"
   ]
  },
  {
   "cell_type": "code",
   "execution_count": 7,
   "metadata": {},
   "outputs": [],
   "source": [
    "daily_events = df.set_index('event_time').resample('D').size()\n",
    "hourly_events = df['event_time'].dt.hour.value_counts().sort_index()"
   ]
  },
  {
   "cell_type": "code",
   "execution_count": 8,
   "metadata": {},
   "outputs": [
    {
     "data": {
      "text/html": [
       "<div>\n",
       "<style scoped>\n",
       "    .dataframe tbody tr th:only-of-type {\n",
       "        vertical-align: middle;\n",
       "    }\n",
       "\n",
       "    .dataframe tbody tr th {\n",
       "        vertical-align: top;\n",
       "    }\n",
       "\n",
       "    .dataframe thead th {\n",
       "        text-align: right;\n",
       "    }\n",
       "</style>\n",
       "<table border=\"1\" class=\"dataframe\">\n",
       "  <thead>\n",
       "    <tr style=\"text-align: right;\">\n",
       "      <th></th>\n",
       "      <th>$insert_id</th>\n",
       "      <th>amplitude_id</th>\n",
       "      <th>app</th>\n",
       "      <th>city</th>\n",
       "      <th>client_event_time</th>\n",
       "      <th>client_upload_time</th>\n",
       "      <th>country</th>\n",
       "      <th>data</th>\n",
       "      <th>data_type</th>\n",
       "      <th>device_family</th>\n",
       "      <th>...</th>\n",
       "      <th>os_version</th>\n",
       "      <th>platform</th>\n",
       "      <th>processed_time</th>\n",
       "      <th>region</th>\n",
       "      <th>server_received_time</th>\n",
       "      <th>server_upload_time</th>\n",
       "      <th>session_id</th>\n",
       "      <th>user_id</th>\n",
       "      <th>user_properties</th>\n",
       "      <th>uuid</th>\n",
       "    </tr>\n",
       "  </thead>\n",
       "  <tbody>\n",
       "    <tr>\n",
       "      <th>5</th>\n",
       "      <td>2aadcfef-fc23-469a-aa23-97abac6f2ace</td>\n",
       "      <td>864218414211</td>\n",
       "      <td>591532</td>\n",
       "      <td>Spring</td>\n",
       "      <td>2024-06-17 20:34:05.086000</td>\n",
       "      <td>2024-06-17 20:34:07.056000</td>\n",
       "      <td>United States</td>\n",
       "      <td>{'path': '/2/httpapi', 'group_first_event': {}...</td>\n",
       "      <td>event</td>\n",
       "      <td>Mac OS X</td>\n",
       "      <td>...</td>\n",
       "      <td>119</td>\n",
       "      <td>Web</td>\n",
       "      <td>2024-06-17 20:34:08.587000</td>\n",
       "      <td>Texas</td>\n",
       "      <td>2024-06-17 20:34:07.056000</td>\n",
       "      <td>2024-06-17 20:34:07.059000</td>\n",
       "      <td>1718650922298</td>\n",
       "      <td>2db3ef42-46f0-4856-a55d-b202565c7090</td>\n",
       "      <td>{'initial_utm_medium': 'EMPTY', 'initial_refer...</td>\n",
       "      <td>fdc71666-d5cd-4a8e-a332-3f49945f3491</td>\n",
       "    </tr>\n",
       "    <tr>\n",
       "      <th>6</th>\n",
       "      <td>cb1236f2-45b9-4059-88fd-ca24c1bb72d5</td>\n",
       "      <td>864218414211</td>\n",
       "      <td>591532</td>\n",
       "      <td>Spring</td>\n",
       "      <td>2024-06-17 20:36:57.416000</td>\n",
       "      <td>2024-06-17 20:36:58.676000</td>\n",
       "      <td>United States</td>\n",
       "      <td>{'path': '/2/httpapi', 'group_first_event': {}...</td>\n",
       "      <td>event</td>\n",
       "      <td>Mac OS X</td>\n",
       "      <td>...</td>\n",
       "      <td>119</td>\n",
       "      <td>Web</td>\n",
       "      <td>2024-06-17 20:37:00.362000</td>\n",
       "      <td>Texas</td>\n",
       "      <td>2024-06-17 20:36:58.676000</td>\n",
       "      <td>2024-06-17 20:36:58.695000</td>\n",
       "      <td>1718650922298</td>\n",
       "      <td>2db3ef42-46f0-4856-a55d-b202565c7090</td>\n",
       "      <td>{'initial_utm_medium': 'EMPTY', 'initial_refer...</td>\n",
       "      <td>75f9a734-6603-4b22-a6d8-fe4bb18a8f59</td>\n",
       "    </tr>\n",
       "    <tr>\n",
       "      <th>7</th>\n",
       "      <td>f9a6b241-2d20-4eb3-8e10-505e99c49344</td>\n",
       "      <td>864218414211</td>\n",
       "      <td>591532</td>\n",
       "      <td>Spring</td>\n",
       "      <td>2024-06-17 20:36:57.420000</td>\n",
       "      <td>2024-06-17 20:36:58.676000</td>\n",
       "      <td>United States</td>\n",
       "      <td>{'path': '/2/httpapi', 'group_first_event': {}...</td>\n",
       "      <td>event</td>\n",
       "      <td>Mac OS X</td>\n",
       "      <td>...</td>\n",
       "      <td>119</td>\n",
       "      <td>Web</td>\n",
       "      <td>2024-06-17 20:37:00.362000</td>\n",
       "      <td>Texas</td>\n",
       "      <td>2024-06-17 20:36:58.676000</td>\n",
       "      <td>2024-06-17 20:36:58.695000</td>\n",
       "      <td>1718650922298</td>\n",
       "      <td>2db3ef42-46f0-4856-a55d-b202565c7090</td>\n",
       "      <td>{'initial_utm_medium': 'EMPTY', 'initial_refer...</td>\n",
       "      <td>a52a515f-a821-4b05-86ee-5ee6f30663a8</td>\n",
       "    </tr>\n",
       "    <tr>\n",
       "      <th>8</th>\n",
       "      <td>131c11c9-39a9-41b5-89d6-a7fb5ed3cbbd</td>\n",
       "      <td>864218414211</td>\n",
       "      <td>591532</td>\n",
       "      <td>Spring</td>\n",
       "      <td>2024-06-17 20:36:58.630000</td>\n",
       "      <td>2024-06-17 20:36:59.703000</td>\n",
       "      <td>United States</td>\n",
       "      <td>{'path': '/2/httpapi', 'group_first_event': {}...</td>\n",
       "      <td>event</td>\n",
       "      <td>Mac OS X</td>\n",
       "      <td>...</td>\n",
       "      <td>119</td>\n",
       "      <td>Web</td>\n",
       "      <td>2024-06-17 20:37:00.362000</td>\n",
       "      <td>Texas</td>\n",
       "      <td>2024-06-17 20:36:59.703000</td>\n",
       "      <td>2024-06-17 20:36:59.704000</td>\n",
       "      <td>1718650922298</td>\n",
       "      <td>2db3ef42-46f0-4856-a55d-b202565c7090</td>\n",
       "      <td>{'initial_utm_medium': 'EMPTY', 'initial_refer...</td>\n",
       "      <td>4f7a7ce1-134d-4f09-bbf7-04ee3f687808</td>\n",
       "    </tr>\n",
       "    <tr>\n",
       "      <th>9</th>\n",
       "      <td>2545c00c-9537-425b-a8d8-ee39fb22ac14</td>\n",
       "      <td>864218414211</td>\n",
       "      <td>591532</td>\n",
       "      <td>Spring</td>\n",
       "      <td>2024-06-17 20:37:13.126000</td>\n",
       "      <td>2024-06-17 20:37:14.203000</td>\n",
       "      <td>United States</td>\n",
       "      <td>{'path': '/2/httpapi', 'group_first_event': {}...</td>\n",
       "      <td>event</td>\n",
       "      <td>Mac OS X</td>\n",
       "      <td>...</td>\n",
       "      <td>119</td>\n",
       "      <td>Web</td>\n",
       "      <td>2024-06-17 20:37:14.941000</td>\n",
       "      <td>Texas</td>\n",
       "      <td>2024-06-17 20:37:14.203000</td>\n",
       "      <td>2024-06-17 20:37:14.216000</td>\n",
       "      <td>1718650922298</td>\n",
       "      <td>2db3ef42-46f0-4856-a55d-b202565c7090</td>\n",
       "      <td>{'initial_utm_medium': 'EMPTY', 'initial_refer...</td>\n",
       "      <td>360549e3-541f-49ad-a804-7ab0a3aa3318</td>\n",
       "    </tr>\n",
       "    <tr>\n",
       "      <th>10</th>\n",
       "      <td>bdccbe3b-08d7-4ade-952d-3d316b23b117</td>\n",
       "      <td>864218414211</td>\n",
       "      <td>591532</td>\n",
       "      <td>Spring</td>\n",
       "      <td>2024-06-17 20:37:21.623000</td>\n",
       "      <td>2024-06-17 20:37:22.697000</td>\n",
       "      <td>United States</td>\n",
       "      <td>{'path': '/2/httpapi', 'group_first_event': {}...</td>\n",
       "      <td>event</td>\n",
       "      <td>Mac OS X</td>\n",
       "      <td>...</td>\n",
       "      <td>119</td>\n",
       "      <td>Web</td>\n",
       "      <td>2024-06-17 20:37:23.379000</td>\n",
       "      <td>Texas</td>\n",
       "      <td>2024-06-17 20:37:22.697000</td>\n",
       "      <td>2024-06-17 20:37:22.700000</td>\n",
       "      <td>1718650922298</td>\n",
       "      <td>2db3ef42-46f0-4856-a55d-b202565c7090</td>\n",
       "      <td>{'initial_utm_medium': 'EMPTY', 'initial_refer...</td>\n",
       "      <td>e7d11e79-e7f2-4789-b9e6-c8f895716fc7</td>\n",
       "    </tr>\n",
       "  </tbody>\n",
       "</table>\n",
       "<p>6 rows × 30 columns</p>\n",
       "</div>"
      ],
      "text/plain": [
       "                              $insert_id  amplitude_id     app    city  \\\n",
       "5   2aadcfef-fc23-469a-aa23-97abac6f2ace  864218414211  591532  Spring   \n",
       "6   cb1236f2-45b9-4059-88fd-ca24c1bb72d5  864218414211  591532  Spring   \n",
       "7   f9a6b241-2d20-4eb3-8e10-505e99c49344  864218414211  591532  Spring   \n",
       "8   131c11c9-39a9-41b5-89d6-a7fb5ed3cbbd  864218414211  591532  Spring   \n",
       "9   2545c00c-9537-425b-a8d8-ee39fb22ac14  864218414211  591532  Spring   \n",
       "10  bdccbe3b-08d7-4ade-952d-3d316b23b117  864218414211  591532  Spring   \n",
       "\n",
       "             client_event_time          client_upload_time        country  \\\n",
       "5   2024-06-17 20:34:05.086000  2024-06-17 20:34:07.056000  United States   \n",
       "6   2024-06-17 20:36:57.416000  2024-06-17 20:36:58.676000  United States   \n",
       "7   2024-06-17 20:36:57.420000  2024-06-17 20:36:58.676000  United States   \n",
       "8   2024-06-17 20:36:58.630000  2024-06-17 20:36:59.703000  United States   \n",
       "9   2024-06-17 20:37:13.126000  2024-06-17 20:37:14.203000  United States   \n",
       "10  2024-06-17 20:37:21.623000  2024-06-17 20:37:22.697000  United States   \n",
       "\n",
       "                                                 data data_type device_family  \\\n",
       "5   {'path': '/2/httpapi', 'group_first_event': {}...     event      Mac OS X   \n",
       "6   {'path': '/2/httpapi', 'group_first_event': {}...     event      Mac OS X   \n",
       "7   {'path': '/2/httpapi', 'group_first_event': {}...     event      Mac OS X   \n",
       "8   {'path': '/2/httpapi', 'group_first_event': {}...     event      Mac OS X   \n",
       "9   {'path': '/2/httpapi', 'group_first_event': {}...     event      Mac OS X   \n",
       "10  {'path': '/2/httpapi', 'group_first_event': {}...     event      Mac OS X   \n",
       "\n",
       "    ... os_version platform              processed_time  region  \\\n",
       "5   ...        119      Web  2024-06-17 20:34:08.587000   Texas   \n",
       "6   ...        119      Web  2024-06-17 20:37:00.362000   Texas   \n",
       "7   ...        119      Web  2024-06-17 20:37:00.362000   Texas   \n",
       "8   ...        119      Web  2024-06-17 20:37:00.362000   Texas   \n",
       "9   ...        119      Web  2024-06-17 20:37:14.941000   Texas   \n",
       "10  ...        119      Web  2024-06-17 20:37:23.379000   Texas   \n",
       "\n",
       "          server_received_time          server_upload_time     session_id  \\\n",
       "5   2024-06-17 20:34:07.056000  2024-06-17 20:34:07.059000  1718650922298   \n",
       "6   2024-06-17 20:36:58.676000  2024-06-17 20:36:58.695000  1718650922298   \n",
       "7   2024-06-17 20:36:58.676000  2024-06-17 20:36:58.695000  1718650922298   \n",
       "8   2024-06-17 20:36:59.703000  2024-06-17 20:36:59.704000  1718650922298   \n",
       "9   2024-06-17 20:37:14.203000  2024-06-17 20:37:14.216000  1718650922298   \n",
       "10  2024-06-17 20:37:22.697000  2024-06-17 20:37:22.700000  1718650922298   \n",
       "\n",
       "                                 user_id  \\\n",
       "5   2db3ef42-46f0-4856-a55d-b202565c7090   \n",
       "6   2db3ef42-46f0-4856-a55d-b202565c7090   \n",
       "7   2db3ef42-46f0-4856-a55d-b202565c7090   \n",
       "8   2db3ef42-46f0-4856-a55d-b202565c7090   \n",
       "9   2db3ef42-46f0-4856-a55d-b202565c7090   \n",
       "10  2db3ef42-46f0-4856-a55d-b202565c7090   \n",
       "\n",
       "                                      user_properties  \\\n",
       "5   {'initial_utm_medium': 'EMPTY', 'initial_refer...   \n",
       "6   {'initial_utm_medium': 'EMPTY', 'initial_refer...   \n",
       "7   {'initial_utm_medium': 'EMPTY', 'initial_refer...   \n",
       "8   {'initial_utm_medium': 'EMPTY', 'initial_refer...   \n",
       "9   {'initial_utm_medium': 'EMPTY', 'initial_refer...   \n",
       "10  {'initial_utm_medium': 'EMPTY', 'initial_refer...   \n",
       "\n",
       "                                    uuid  \n",
       "5   fdc71666-d5cd-4a8e-a332-3f49945f3491  \n",
       "6   75f9a734-6603-4b22-a6d8-fe4bb18a8f59  \n",
       "7   a52a515f-a821-4b05-86ee-5ee6f30663a8  \n",
       "8   4f7a7ce1-134d-4f09-bbf7-04ee3f687808  \n",
       "9   360549e3-541f-49ad-a804-7ab0a3aa3318  \n",
       "10  e7d11e79-e7f2-4789-b9e6-c8f895716fc7  \n",
       "\n",
       "[6 rows x 30 columns]"
      ]
     },
     "execution_count": 8,
     "metadata": {},
     "output_type": "execute_result"
    }
   ],
   "source": [
    "df.loc[5:10]"
   ]
  },
  {
   "cell_type": "code",
   "execution_count": 9,
   "metadata": {},
   "outputs": [
    {
     "data": {
      "text/plain": [
       "0"
      ]
     },
     "execution_count": 9,
     "metadata": {},
     "output_type": "execute_result"
    }
   ],
   "source": [
    "df['server_received_time'].isnull().sum()\n"
   ]
  },
  {
   "cell_type": "code",
   "execution_count": 10,
   "metadata": {},
   "outputs": [
    {
     "data": {
      "text/plain": [
       "2046042"
      ]
     },
     "execution_count": 10,
     "metadata": {},
     "output_type": "execute_result"
    }
   ],
   "source": [
    "df.duplicated(subset=['server_received_time']).sum()"
   ]
  },
  {
   "cell_type": "code",
   "execution_count": 11,
   "metadata": {},
   "outputs": [
    {
     "data": {
      "text/plain": [
       "event_type\n",
       "account-lines::widget:render                                                  444462\n",
       "account-lines::configurable-table:render                                      241933\n",
       "account-lines:::view                                                          165637\n",
       "dashboard:my-book:widget:render                                               120633\n",
       "dashboard:my-book:configurable-table:render                                   116705\n",
       "                                                                               ...  \n",
       "account-lines::pricing-details-accordion:selected                                  1\n",
       "submissions:all-access_control_submission:configurable-table:render                1\n",
       "submissions:access_control_submission-definition:layout:render                     1\n",
       "submissions:access_control_submission-definition:configurable-table:render         1\n",
       "submissions:all-specialty_casualty::view                                           1\n",
       "Name: count, Length: 393, dtype: int64"
      ]
     },
     "execution_count": 11,
     "metadata": {},
     "output_type": "execute_result"
    }
   ],
   "source": [
    "df[df.duplicated(subset=['server_received_time'])]['event_type'].value_counts()"
   ]
  },
  {
   "cell_type": "code",
   "execution_count": 23,
   "metadata": {},
   "outputs": [],
   "source": [
    "### High duplicate timestamps for when the server receives the data.\n",
    "### What could this mean?\n",
    "### High duplication in UI-related events (widget:render, configurable-table:render)\n",
    "### The platform might be loading widgets multiple times per session for a single user.\n",
    "### Possible redundant logging (is the same widget being counted multiple times?).\n",
    "### Users could be navigating between pages frequently, leading to repeated renders.\n",
    "### Other event types are not heavily duplicated\n",
    "### Actions like clicking buttons or viewing pages don’t repeat much."
   ]
  },
  {
   "cell_type": "code",
   "execution_count": 12,
   "metadata": {},
   "outputs": [
    {
     "data": {
      "text/plain": [
       "user_id\n",
       "EMPTY                                   61195\n",
       "1b992a40-b2c3-4b69-a5bc-05711eeddd80    45654\n",
       "0c4896b7-08fa-4cb4-852f-27ad584f0864    42836\n",
       "96521245-b6a9-4393-a42e-3e8e470f5e5f    26674\n",
       "bb8fa1af-a540-4d0f-a633-569c61f01281    26119\n",
       "8dbcce7d-02e8-4556-b917-f5d3393bf859    22993\n",
       "6066f244-0707-4e85-9fc5-70e6fefdea0b    20946\n",
       "b2c2fd37-7866-4136-bce0-6f453452836b    18714\n",
       "e309f160-ed02-4c6c-84bb-33bab8749186    18314\n",
       "01708ccf-437b-44ed-b5a0-2fed8f7761d3    18108\n",
       "dtype: int64"
      ]
     },
     "execution_count": 12,
     "metadata": {},
     "output_type": "execute_result"
    }
   ],
   "source": [
    "df[df.duplicated(subset=['server_received_time'])].groupby('user_id').size().sort_values(ascending=False).head(10)\n"
   ]
  },
  {
   "cell_type": "code",
   "execution_count": 13,
   "metadata": {},
   "outputs": [
    {
     "data": {
      "text/plain": [
       "user_id\n",
       "1b992a40-b2c3-4b69-a5bc-05711eeddd80    8244\n",
       "afe99d2f-4fce-4584-a360-967b87f459d2    4411\n",
       "EMPTY                                   4246\n",
       "0c4896b7-08fa-4cb4-852f-27ad584f0864    3277\n",
       "9cadb195-5205-414d-bac7-3d96d21469a7    1326\n",
       "91349869-3223-4a5a-90b7-b87f69f873cc     884\n",
       "427bbc85-05d5-4b33-811f-b2176a4bb425     835\n",
       "9aecc15d-64a4-4190-80f5-b5b842422f2c     830\n",
       "03067186-7ad7-4996-9f1c-2a328b64996b     804\n",
       "2d96f046-9d08-4ef6-b1b1-7642bc793b1a     783\n",
       "Name: session_id, dtype: int64"
      ]
     },
     "execution_count": 13,
     "metadata": {},
     "output_type": "execute_result"
    }
   ],
   "source": [
    "df.groupby('user_id')['session_id'].nunique().sort_values(ascending=False).head(10)\n"
   ]
  },
  {
   "cell_type": "code",
   "execution_count": 26,
   "metadata": {},
   "outputs": [
    {
     "data": {
      "text/plain": [
       "'\\nThe top users have frequent but short sessions\\n→ This could mean they log in multiple times but don’t stay long.\\nShort sessions could indicate usability issues\\n→ If users keep coming back quickly but don’t stay long, they might be:\\nStruggling to complete tasks.\\nRefreshing pages frequently due to delays.\\nOnly using the platform briefly (e.g., quick lookups instead of deep engagement).\\n'"
      ]
     },
     "execution_count": 26,
     "metadata": {},
     "output_type": "execute_result"
    }
   ],
   "source": [
    "'''\n",
    "The top users have frequent but short sessions\n",
    "→ This could mean they log in multiple times but don’t stay long.\n",
    "Short sessions could indicate usability issues\n",
    "→ If users keep coming back quickly but don’t stay long, they might be:\n",
    "Struggling to complete tasks.\n",
    "Refreshing pages frequently due to delays.\n",
    "Only using the platform briefly (e.g., quick lookups instead of deep engagement).\n",
    "'''"
   ]
  },
  {
   "cell_type": "code",
   "execution_count": 14,
   "metadata": {},
   "outputs": [
    {
     "data": {
      "text/plain": [
       "session_id\n",
       "1694059506102    0.0\n",
       "1736182991291    0.0\n",
       "1736182973347    0.0\n",
       "1736182973346    0.0\n",
       "1736182973337    0.0\n",
       "1736182973334    0.0\n",
       "1736182872869    0.0\n",
       "1736183038747    0.0\n",
       "1736182838335    0.0\n",
       "1736182838333    0.0\n",
       "Name: session_length, dtype: float64"
      ]
     },
     "execution_count": 14,
     "metadata": {},
     "output_type": "execute_result"
    }
   ],
   "source": [
    "df['server_received_time'] = pd.to_datetime(df['server_received_time'])\n",
    "df_sessions = df.groupby('session_id')['server_received_time'].agg(['min', 'max'])\n",
    "df_sessions['session_length'] = (df_sessions['max'] - df_sessions['min']).dt.total_seconds()\n",
    "\n",
    "df_sessions.groupby(df_sessions.index)['session_length'].mean().sort_values(ascending=True).head(10)\n"
   ]
  },
  {
   "cell_type": "code",
   "execution_count": 15,
   "metadata": {},
   "outputs": [
    {
     "data": {
      "text/plain": [
       "'\\nThe platform does not appear to have delays or performance issues.\\nUsers might be interacting in short bursts, completing tasks quickly.\\n'"
      ]
     },
     "execution_count": 15,
     "metadata": {},
     "output_type": "execute_result"
    }
   ],
   "source": [
    "'''\n",
    "The platform does not appear to have delays or performance issues.\n",
    "Users might be interacting in short bursts, completing tasks quickly.\n",
    "'''"
   ]
  },
  {
   "cell_type": "code",
   "execution_count": 16,
   "metadata": {},
   "outputs": [
    {
     "data": {
      "text/plain": [
       "event_type\n",
       "account-lines::widget:render                                     9773\n",
       "application-window-opened                                        6674\n",
       "dashboard:my-book:widget:render                                  6374\n",
       "account-lines:::view                                             5770\n",
       "account:::view                                                   4445\n",
       "                                                                 ... \n",
       "account-auto-rating:::change-rating-click                           1\n",
       "account-lines::employee-wage-summary-table-accordion:selected       1\n",
       "account-lines::limits-accordion:selected                            1\n",
       "submissions:all-old_renewal:configurable-table:render               1\n",
       "submissions:all-access_control_submission::view                     1\n",
       "Name: count, Length: 280, dtype: int64"
      ]
     },
     "execution_count": 16,
     "metadata": {},
     "output_type": "execute_result"
    }
   ],
   "source": [
    "df[df['user_id'] == 'EMPTY']['event_type'].value_counts()\n"
   ]
  },
  {
   "cell_type": "code",
   "execution_count": 17,
   "metadata": {},
   "outputs": [
    {
     "data": {
      "text/plain": [
       "'\\nGuest (EMPTY) users mostly load UI elements (widget:render), but don’t interact much.\\nThey might be exploring but are not engaging with core features.\\n'"
      ]
     },
     "execution_count": 17,
     "metadata": {},
     "output_type": "execute_result"
    }
   ],
   "source": [
    "'''\n",
    "Guest (EMPTY) users mostly load UI elements (widget:render), but don’t interact much.\n",
    "They might be exploring but are not engaging with core features.\n",
    "'''"
   ]
  },
  {
   "cell_type": "code",
   "execution_count": 18,
   "metadata": {},
   "outputs": [
    {
     "data": {
      "text/plain": [
       "session_id\n",
       "1737398378319    2660\n",
       "1736270301754    1538\n",
       "1726596090836     934\n",
       "1736532122957     930\n",
       "1736522487567     803\n",
       "1737827499781     687\n",
       "1737588249389     630\n",
       "1736519456877     594\n",
       "1737638408513     589\n",
       "1736201245544     580\n",
       "dtype: int64"
      ]
     },
     "execution_count": 18,
     "metadata": {},
     "output_type": "execute_result"
    }
   ],
   "source": [
    "df[df['user_id'] == 'EMPTY'].groupby('session_id').size().sort_values(ascending=False).head(10)"
   ]
  },
  {
   "cell_type": "code",
   "execution_count": 19,
   "metadata": {},
   "outputs": [
    {
     "data": {
      "text/plain": [
       "session_id\n",
       "1737160328741    2384\n",
       "1737569917280    2288\n",
       "1737118982852    2280\n",
       "1737051199361    2252\n",
       "1719425815093    1983\n",
       "1737138446665    1961\n",
       "1736273915352    1923\n",
       "1737988435111    1779\n",
       "1738005710175    1758\n",
       "1737993274231    1723\n",
       "dtype: int64"
      ]
     },
     "execution_count": 19,
     "metadata": {},
     "output_type": "execute_result"
    }
   ],
   "source": [
    "df[df['user_id'] != 'EMPTY'].groupby('session_id').size().sort_values(ascending=False).head(10)"
   ]
  },
  {
   "cell_type": "code",
   "execution_count": 20,
   "metadata": {},
   "outputs": [
    {
     "name": "stdout",
     "output_type": "stream",
     "text": [
      "Average session length (registered users): 35125.56359831969\n",
      "Average session length (guest users): 19736.04398011143\n"
     ]
    }
   ],
   "source": [
    "df_sessions = df.groupby('session_id')['server_received_time'].agg(['min', 'max'])\n",
    "df_sessions['session_length'] = (df_sessions['max'] - df_sessions['min']).dt.total_seconds()\n",
    "\n",
    "df = df.merge(df_sessions[['session_length']], left_on='session_id', right_index=True)\n",
    "print(\"Average session length (registered users):\", df[df['user_id'] != 'EMPTY']['session_length'].mean())\n",
    "print(\"Average session length (guest users):\", df[df['user_id'] == 'EMPTY']['session_length'].mean())\n"
   ]
  },
  {
   "cell_type": "code",
   "execution_count": 21,
   "metadata": {},
   "outputs": [],
   "source": [
    "#Guest Users Have Shorter Sessions Than Registered Users\n",
    "#Registered users engage significantly longer than guest users.\n",
    "#Guest users spend approximately 44% less time on the platform, which suggests they either lose interest, don’t find what they need, or face friction in deeper engagement.\n",
    "#Possible friction points for guest users:\n",
    "#Lack of a clear onboarding process.\n",
    "#No strong incentive to register and continue using the platform.\n",
    "#Recommendation:\n",
    "#Improve guest-to-registered conversion strategies (e.g., more CTAs, pop-ups encouraging sign-ups, guest limitations)."
   ]
  },
  {
   "cell_type": "code",
   "execution_count": 22,
   "metadata": {},
   "outputs": [
    {
     "data": {
      "text/plain": [
       "user_id\n",
       "1b992a40-b2c3-4b69-a5bc-05711eeddd80    8244\n",
       "afe99d2f-4fce-4584-a360-967b87f459d2    4411\n",
       "EMPTY                                   4246\n",
       "0c4896b7-08fa-4cb4-852f-27ad584f0864    3277\n",
       "9cadb195-5205-414d-bac7-3d96d21469a7    1326\n",
       "91349869-3223-4a5a-90b7-b87f69f873cc     884\n",
       "427bbc85-05d5-4b33-811f-b2176a4bb425     835\n",
       "9aecc15d-64a4-4190-80f5-b5b842422f2c     830\n",
       "03067186-7ad7-4996-9f1c-2a328b64996b     804\n",
       "2d96f046-9d08-4ef6-b1b1-7642bc793b1a     783\n",
       "Name: session_id, dtype: int64"
      ]
     },
     "execution_count": 22,
     "metadata": {},
     "output_type": "execute_result"
    }
   ],
   "source": [
    "df.groupby('user_id')['session_id'].nunique().sort_values(ascending=False).head(10)"
   ]
  },
  {
   "cell_type": "code",
   "execution_count": 23,
   "metadata": {},
   "outputs": [],
   "source": [
    "#Some guest users are extremely active, so some of them return frequently but do not convert so need a way to \n",
    "#suggest guest users to register after multiple sessions"
   ]
  },
  {
   "cell_type": "code",
   "execution_count": 24,
   "metadata": {},
   "outputs": [
    {
     "name": "stdout",
     "output_type": "stream",
     "text": [
      "user_id\n",
      "0c4896b7-08fa-4cb4-852f-27ad584f0864    1.584386e+10\n",
      "6cd4ff43-3226-4bbf-8203-5d01470ba1fd    3.812968e+09\n",
      "e309f160-ed02-4c6c-84bb-33bab8749186    2.245069e+09\n",
      "6066f244-0707-4e85-9fc5-70e6fefdea0b    1.742516e+09\n",
      "432c2adc-b1e0-4f25-b357-a11dbd885a74    1.730411e+09\n",
      "bb8fa1af-a540-4d0f-a633-569c61f01281    1.468957e+09\n",
      "EMPTY                                   1.448803e+09\n",
      "96521245-b6a9-4393-a42e-3e8e470f5e5f    1.208008e+09\n",
      "a883990d-2aa3-4644-9511-5f1c035717f2    1.203262e+09\n",
      "27badcb0-1792-4274-ac78-ef9d9a90daaf    1.113618e+09\n",
      "Name: session_length, dtype: float64\n"
     ]
    }
   ],
   "source": [
    "df_user_time = df.groupby('user_id')['session_length'].sum().sort_values(ascending=False)\n",
    "print(df_user_time.head(10))"
   ]
  },
  {
   "cell_type": "code",
   "execution_count": 25,
   "metadata": {},
   "outputs": [
    {
     "data": {
      "text/plain": [
       "event_type\n",
       "session_end                                    59366\n",
       "dashboard:my-book::view                        10201\n",
       "dashboard:my-book:configurable-table:render     5589\n",
       "application-window-opened                       4871\n",
       "session_start                                   4742\n",
       "account-lines::configurable-table:render        3205\n",
       "account-lines:::view                            2900\n",
       "account:::view                                  2686\n",
       "account-lines::widget:render                    2523\n",
       "action-center:::close-click                     2132\n",
       "Name: count, dtype: int64"
      ]
     },
     "execution_count": 25,
     "metadata": {},
     "output_type": "execute_result"
    }
   ],
   "source": [
    "df_last_events = df.sort_values(['session_id', 'server_received_time']).groupby('session_id').last()\n",
    "df_last_events['event_type'].value_counts().head(10)"
   ]
  },
  {
   "cell_type": "code",
   "execution_count": 26,
   "metadata": {},
   "outputs": [
    {
     "data": {
      "text/plain": [
       "\" \\nMost sessions end with a default 'session_end' event or immediately following UI rendering actions (e.g., configurable-table:render, widget:render) rather than after clear, meaningful interactions.\\nThis pattern suggests users are passively browsing without engaging in actions like form submissions or button clicks.\\nRecommendation:\\nInvestigate the user journey to identify friction points that prevent deeper engagement, and consider implementing stronger CTAs and interactive nudges to drive meaningful interactions before sessions conclude.\\n\""
      ]
     },
     "execution_count": 26,
     "metadata": {},
     "output_type": "execute_result"
    }
   ],
   "source": [
    "''' \n",
    "Most sessions end with a default 'session_end' event or immediately following UI rendering actions (e.g., configurable-table:render, widget:render) rather than after clear, meaningful interactions.\n",
    "This pattern suggests users are passively browsing without engaging in actions like form submissions or button clicks.\n",
    "Recommendation:\n",
    "Investigate the user journey to identify friction points that prevent deeper engagement, and consider implementing stronger CTAs and interactive nudges to drive meaningful interactions before sessions conclude.\n",
    "'''"
   ]
  },
  {
   "cell_type": "code",
   "execution_count": 27,
   "metadata": {},
   "outputs": [
    {
     "data": {
      "text/plain": [
       "<Axes: title={'center': 'Distribution of Session Event Counts'}, ylabel='Frequency'>"
      ]
     },
     "execution_count": 27,
     "metadata": {},
     "output_type": "execute_result"
    },
    {
     "data": {
      "image/png": "[encoded data removed]",
      "text/plain": [
       "<Figure size 1200x600 with 1 Axes>"
      ]
     },
     "metadata": {},
     "output_type": "display_data"
    }
   ],
   "source": [
    "df_sessions = df.groupby('session_id').size()\n",
    "df_sessions.plot(kind='hist', bins=50, figsize=(12,6), title=\"Distribution of Session Event Counts\")"
   ]
  },
  {
   "cell_type": "code",
   "execution_count": 28,
   "metadata": {},
   "outputs": [
    {
     "data": {
      "text/plain": [
       "event_type\n",
       "session_end                                   38300\n",
       "session_start                                 38267\n",
       "application-window-opened                     15484\n",
       "dashboard:my-book::view                       10712\n",
       "account-lines:::view                           2894\n",
       "account:::view                                 2850\n",
       "all-accounts:::view                            1308\n",
       "all-accounts::accounts-table:account-click      852\n",
       "action-center:::close-click                     675\n",
       "action-center:::view                            671\n",
       "Name: count, dtype: int64"
      ]
     },
     "execution_count": 28,
     "metadata": {},
     "output_type": "execute_result"
    }
   ],
   "source": [
    "df_sessions = df.groupby('session_id').size()  \n",
    "\n",
    "df_low_activity = df[df['session_id'].isin(df_sessions[df_sessions <= 5].index)]\n",
    "df_low_activity['event_type'].value_counts().head(10)\n"
   ]
  },
  {
   "cell_type": "markdown",
   "metadata": {},
   "source": [
    "Many users drop off immediately after opening a session.\n",
    "\n",
    "They start a session, view a page, and leave within 5 events.\n",
    "Possible reasons:\n",
    "Users may not find what they need quickly.\n",
    "The interface might not be intuitive.\n",
    "Session timeouts or accidental closures.\n",
    "Users aren’t performing deeper actions.\n",
    "\n",
    "Most sessions involve views (::view), but not interactions like button clicks or form submissions.\n",
    "This suggests low engagement beyond page navigation.\n"
   ]
  },
  {
   "cell_type": "code",
   "execution_count": 29,
   "metadata": {},
   "outputs": [
    {
     "data": {
      "text/plain": [
       "user_id\n",
       "bb8fa1af-a540-4d0f-a633-569c61f01281    26445\n",
       "e309f160-ed02-4c6c-84bb-33bab8749186    23263\n",
       "6066f244-0707-4e85-9fc5-70e6fefdea0b    22529\n",
       "b5e87951-22bd-4333-9a0d-ae28ecabe804    21134\n",
       "EMPTY                                   20603\n",
       "cfa20420-326e-4d5a-b202-c04084e785ad    19432\n",
       "96521245-b6a9-4393-a42e-3e8e470f5e5f    19365\n",
       "c774e8c0-4817-4b51-962a-ac7c051d0470    18846\n",
       "8dbcce7d-02e8-4556-b917-f5d3393bf859    17794\n",
       "d367faa8-7f10-4ffe-a216-c14b880a4d60    16323\n",
       "Name: count, dtype: int64"
      ]
     },
     "execution_count": 29,
     "metadata": {},
     "output_type": "execute_result"
    }
   ],
   "source": [
    "df_high_activity = df[df['session_id'].isin(df_sessions[df_sessions >= 200].index)]\n",
    "df_high_activity['user_id'].value_counts().head(10)\n"
   ]
  },
  {
   "cell_type": "code",
   "execution_count": 30,
   "metadata": {},
   "outputs": [
    {
     "data": {
      "text/plain": [
       "user_id\n",
       "1b992a40-b2c3-4b69-a5bc-05711eeddd80    7986\n",
       "afe99d2f-4fce-4584-a360-967b87f459d2    7941\n",
       "EMPTY                                   5237\n",
       "0c4896b7-08fa-4cb4-852f-27ad584f0864    4054\n",
       "9cadb195-5205-414d-bac7-3d96d21469a7    1508\n",
       "23073a79-d4e5-48db-853d-b745664cc454    1374\n",
       "91349869-3223-4a5a-90b7-b87f69f873cc    1076\n",
       "2d96f046-9d08-4ef6-b1b1-7642bc793b1a    1062\n",
       "03067186-7ad7-4996-9f1c-2a328b64996b    1022\n",
       "2a2df88e-435c-47d3-8f79-b7f0bbccbb6d     990\n",
       "Name: count, dtype: int64"
      ]
     },
     "execution_count": 30,
     "metadata": {},
     "output_type": "execute_result"
    }
   ],
   "source": [
    "df_low_activity['user_id'].value_counts().head(10)\n"
   ]
  },
  {
   "cell_type": "code",
   "execution_count": 31,
   "metadata": {},
   "outputs": [],
   "source": [
    "df['server_received_time'] = pd.to_datetime(df['server_received_time'])\n"
   ]
  },
  {
   "cell_type": "code",
   "execution_count": 34,
   "metadata": {},
   "outputs": [
    {
     "data": {
      "image/png": "[encoded data removed]",
      "text/plain": [
       "<Figure size 1200x600 with 1 Axes>"
      ]
     },
     "metadata": {},
     "output_type": "display_data"
    }
   ],
   "source": [
    "df['hour_received'] = df['server_received_time'].dt.hour\n",
    "df['hour_received'].value_counts().sort_index().plot(kind='bar', figsize=(12,6), color='blue')\n",
    "plt.xlabel(\"Hour of Day\")\n",
    "plt.ylabel(\"Number of Events\")\n",
    "plt.title(\"Events Received Per Hour\")\n",
    "plt.show()\n"
   ]
  },
  {
   "cell_type": "markdown",
   "metadata": {},
   "source": [
    "''' \n",
    "Most events now occur around 20:00 (8 PM), indicating that late-evening engagement is the peak activity period.\n",
    "This suggests that a large portion of users are active during this time—likely catching up on platform interactions as their day winds down.\n",
    "\n",
    "-Evening Users Are Predominantly Browsing Rather Than Engaging\n",
    "The high number of widget:render and view events at 8 PM implies that many users are primarily browsing the platform without taking deeper, more interactive actions (like form submissions or button clicks).\n",
    "\n",
    "-Secondary Activity Periods and Off-Hours\n",
    "While the evening shows a strong peak, there are still moderate activity levels during late afternoon hours, which may represent users checking in briefly. Additionally, periods like 8:00–11:00 and after 21:00 show lower engagement.\n",
    "\n",
    "-Optimization and Engagement Strategies\n",
    "Recommendation:\n",
    "Optimize platform performance to handle the high load around 8 PM and consider implementing targeted CTAs or engagement nudges during this peak period to encourage users to take more meaningful actions.\n",
    "'''\n"
   ]
  },
  {
   "cell_type": "code",
   "execution_count": 35,
   "metadata": {},
   "outputs": [
    {
     "data": {
      "image/png": "[encoded data removed]",
      "text/plain": [
       "<Figure size 1000x500 with 1 Axes>"
      ]
     },
     "metadata": {},
     "output_type": "display_data"
    }
   ],
   "source": [
    "df['weekday_received'] = df['server_received_time'].dt.day_name()\n",
    "\n",
    "df['weekday_received'].value_counts().plot(kind='bar', figsize=(10,5), color='orange')\n",
    "plt.xlabel(\"Day of the Week\")\n",
    "plt.ylabel(\"Number of Events\")\n",
    "plt.title(\"Events Received Per Day of the Week\")\n",
    "plt.show()\n"
   ]
  },
  {
   "cell_type": "markdown",
   "metadata": {},
   "source": [
    "Tuesday remains the highest engagement day, confirming that major updates, marketing campaigns, or feature rollouts should be prioritized on this day to maximize user interaction.\n",
    "Weekday engagement is consistently high, particularly from Monday to Thursday, indicating that users are most active during the workweek. Friday sees a slight decline, but engagement is still strong.\n",
    "Weekend activity drops significantly, with Sunday seeing moderate activity and Saturday experiencing the lowest engagement. This suggests that the platform is primarily used for work-related tasks rather than leisure, and weekend-focused efforts may not be as effective."
   ]
  },
  {
   "cell_type": "code",
   "execution_count": 36,
   "metadata": {},
   "outputs": [
    {
     "data": {
      "text/plain": [
       "event_type\n",
       "account-lines::widget:render                   113045\n",
       "account-lines::configurable-table:render        66132\n",
       "account-lines:::view                            28897\n",
       "dashboard:my-book:configurable-table:render     28169\n",
       "account-lines::layout:render                    27654\n",
       "dashboard:my-book:widget:render                 26854\n",
       "account:::view                                  17749\n",
       "session_start                                   14540\n",
       "application-window-opened                       13509\n",
       "session_end                                     13494\n",
       "Name: count, dtype: int64"
      ]
     },
     "execution_count": 36,
     "metadata": {},
     "output_type": "execute_result"
    }
   ],
   "source": [
    "df_tuesday = df[df['weekday_received'] == 'Tuesday']\n",
    "df_tuesday['event_type'].value_counts().head(10)\n",
    "\n"
   ]
  },
  {
   "cell_type": "code",
   "execution_count": 37,
   "metadata": {},
   "outputs": [],
   "source": [
    "df_sessions = df.groupby('session_id')['server_received_time'].agg(['min', 'max'])\n",
    "df_sessions['session_length'] = (df_sessions['max'] - df_sessions['min']).dt.total_seconds()\n",
    "\n",
    "df_sessions = df_sessions[['session_length']]\n",
    "df_sessions = df_sessions.reset_index()  \n",
    "\n"
   ]
  },
  {
   "cell_type": "code",
   "execution_count": 38,
   "metadata": {},
   "outputs": [],
   "source": [
    "df_merged = df.merge(df_sessions[['session_id', 'session_length']], on='session_id', how='left')"
   ]
  },
  {
   "cell_type": "markdown",
   "metadata": {},
   "source": [
    "Tuesday is the busiest day, but mostly for passive interactions (UI rendering, page views).\n",
    "Users may be checking data but not actively submitting policies or making decisions.\n",
    "Engagement nudges might be needed to push users toward actual actions."
   ]
  },
  {
   "cell_type": "code",
   "execution_count": 39,
   "metadata": {},
   "outputs": [
    {
     "data": {
      "image/png": "[encoded data removed]",
      "text/plain": [
       "<Figure size 1200x600 with 1 Axes>"
      ]
     },
     "metadata": {},
     "output_type": "display_data"
    }
   ],
   "source": [
    "df_merged.groupby(df_merged['server_received_time'].dt.hour)['session_length_y'].mean().plot(kind='bar', figsize=(12,6), color='purple')\n",
    "plt.xlabel(\"Hour of Day\")\n",
    "plt.ylabel(\"Average Session Length (Seconds)\")\n",
    "plt.title(\"Average Session Length by Hour\")\n",
    "plt.show()\n",
    "\n"
   ]
  },
  {
   "cell_type": "markdown",
   "metadata": {},
   "source": [
    "Late-night and early-morning spikes (especially around 4 AM and 22-23 PM) suggest some users engage in very long sessions.\n",
    "\n",
    "This could indicate background activity, automated processes, or users leaving sessions open unintentionally.\n",
    "Consider investigating whether these long sessions are active or passive engagement.\n",
    "Morning session lengths (6 AM - 10 AM) are relatively stable but not the longest.\n",
    "\n",
    "Users during these hours might be logging in for specific work tasks rather than extended, uninterrupted work periods.\n",
    "This contrasts with the previous assumption that morning users stay logged in for extended durations.\n",
    "Afternoon sessions (12 PM - 4 PM) remain shorter, suggesting structured work patterns.\n",
    "\n",
    "Users may be logging in, completing tasks, and logging out rather than staying engaged for long durations.\n",
    "Evening sessions (6 PM - 8 PM) show a significant dip, except for a sharp spike in late-night hours.\n",
    "\n",
    "This further confirms that the platform is work-centric, with less engagement in the evening.\n",
    "The sharp late-night increase could indicate either a subset of night-owl users or non-human activity (e.g., batch processes, data retrieval).\n",
    "The need for automatic session monitoring remains, especially during long-duration spikes.\n",
    "\n",
    "If users are not actively engaged during these long sessions, introducing session timeouts or idle detection could improve efficiency."
   ]
  },
  {
   "cell_type": "code",
   "execution_count": 40,
   "metadata": {},
   "outputs": [
    {
     "data": {
      "image/png": "[encoded data removed]",
      "text/plain": [
       "<Figure size 1200x600 with 1 Axes>"
      ]
     },
     "metadata": {},
     "output_type": "display_data"
    }
   ],
   "source": [
    "df_merged.groupby('session_length_y')['event_type'].count().sort_index().plot(kind='line', figsize=(12,6))\n",
    "plt.xlabel(\"Session Length (Seconds)\")\n",
    "plt.ylabel(\"Number of Events\")\n",
    "plt.title(\"Events vs. Session Length\")\n",
    "plt.show()"
   ]
  },
  {
   "cell_type": "code",
   "execution_count": 41,
   "metadata": {},
   "outputs": [
    {
     "data": {
      "image/png": "[encoded data removed]",
      "text/plain": [
       "<Figure size 1200x600 with 1 Axes>"
      ]
     },
     "metadata": {},
     "output_type": "display_data"
    }
   ],
   "source": [
    "df_merged['session_length_y'].plot(kind='hist', bins=50, figsize=(12,6))\n",
    "plt.xlabel(\"Session Length (Seconds)\")\n",
    "plt.ylabel(\"Number of Sessions\")\n",
    "plt.title(\"Distribution of Session Durations\")\n",
    "plt.show()\n"
   ]
  },
  {
   "cell_type": "code",
   "execution_count": 42,
   "metadata": {},
   "outputs": [
    {
     "name": "stdout",
     "output_type": "stream",
     "text": [
      "Top events in short sessions:\n",
      "event_type\n",
      "application-window-opened                      53956\n",
      "session_start                                  47079\n",
      "account-lines:::view                           40990\n",
      "account-lines::widget:render                   40990\n",
      "dashboard:my-book::view                        38130\n",
      "session_end                                    37453\n",
      "account:::view                                 37072\n",
      "dashboard:my-book:configurable-table:render    29004\n",
      "dashboard:my-book:widget:render                25936\n",
      "account-lines::configurable-table:render       18410\n",
      "Name: count, dtype: int64\n",
      "\n",
      "Top events in long sessions:\n",
      "event_type\n",
      "account-lines::widget:render                   218277\n",
      "account-lines::configurable-table:render       130757\n",
      "account-lines:::view                            56432\n",
      "account-lines::layout:render                    54570\n",
      "dashboard:my-book:configurable-table:render     41372\n",
      "dashboard:my-book:widget:render                 41119\n",
      "account:::view                                  31507\n",
      ":all-accounts:configurable-table:render         22839\n",
      ":all-accounts:layout:render                     19692\n",
      ":all-accounts::view                             19673\n",
      "Name: count, dtype: int64\n"
     ]
    }
   ],
   "source": [
    "short_sessions = df_merged[df_merged['session_length_y'] <= 600]  # 10 min or less\n",
    "long_sessions = df_merged[df_merged['session_length_y'] >= 10800] # 3+ hours\n",
    "\n",
    "print(\"Top events in short sessions:\")\n",
    "print(short_sessions['event_type'].value_counts().head(10))\n",
    "\n",
    "print(\"\\nTop events in long sessions:\")\n",
    "print(long_sessions['event_type'].value_counts().head(10))\n"
   ]
  },
  {
   "cell_type": "markdown",
   "metadata": {},
   "source": [
    "Short Sessions Are Dominated by UI Rendering & Navigation\n",
    "Users primarily open application windows and dashboards, view accounts, and load UI components before leaving.\n",
    "No significant engagement actions (e.g., data entry, form submissions, or policy updates) appear in the top events.\n",
    "This suggests users might be browsing but not taking meaningful actions that drive business value.\n",
    "Possible causes:\n",
    "Users log in to check something briefly and leave.\n",
    "The platform may not be capturing interactions effectively.\n",
    "Users abandon sessions due to a lack of clarity or immediate need.\n",
    "Long Sessions Also Lack Strong Interaction Events\n",
    "Even in long sessions (3+ hours), the top events are dominated by UI rendering and page loads rather than interactive actions.\n",
    "Most activity is focused on navigating and viewing data rather than making edits, updates, or transactions.\n",
    "Possible causes:\n",
    "Users leave tabs open for long periods without active engagement.\n",
    "The platform's workflow might require excessive navigation to complete tasks, leading to inefficient user experiences.\n",
    "Some users may be reviewing data over long periods rather than interacting meaningfully.\n",
    "There could be automated processes or background sessions artificially inflating session duration."
   ]
  },
  {
   "cell_type": "markdown",
   "metadata": {},
   "source": [
    "''' \n",
    "High duplicate timestamps indicate that multiple UI-related events (e.g., widget:render, configurable-table:render) are logged in rapid succession within individual sessions. This might reflect redundant logging or users navigating quickly between pages.\n",
    "\n",
    "Many top users have frequent but extremely short sessions. They log in, trigger a few UI renders, and then leave—suggesting potential usability issues, accidental logins, or even bot activity. Even longer sessions predominantly show passive behavior without meaningful actions.\n",
    "\n",
    "Guest users, in particular, mostly load UI elements without deeper engagement, spending roughly 44% less time on the platform compared to registered users. This highlights the need for improved guest-to-registered conversion strategies and clearer onboarding.\n",
    "\n",
    "Most sessions end with a default 'session_end' event or immediately after passive UI rendering events. This pattern suggests users are primarily browsing without performing actions that drive business impact, such as form submissions or button clicks.\n",
    "\n",
    "Temporal analysis reveals that most events occur around 20:00 (8 PM), marking the peak period of user activity. While this evening period sees high load, it is dominated by navigation and UI rendering. Secondary activity during early mornings and late afternoons, with Tuesday being the busiest day, further suggests structured work patterns. Notably, late-night and early-morning spikes could indicate either genuine prolonged engagement or non-human activity (e.g., automated processes).\n",
    "\n",
    "Overall, both short and long sessions are dominated by passive interactions:\n",
    "•\tShort sessions indicate quick logins and immediate drop-offs.\n",
    "•\tLong sessions rarely exhibit deep engagement despite extended duration.\n",
    "•\tThere is a disconnect between session length and meaningful user interactions.\n",
    "\n",
    "Recommendations:\n",
    "•\tInvestigate and streamline duplicate UI event logging to ensure that each event reflects a unique user action.\n",
    "•\tEnhance onboarding and introduce stronger CTAs to transform passive browsing into active engagement.\n",
    "•\tImplement session monitoring or idle detection to distinguish genuine long-term usage from sessions left open without active engagement.\n",
    "•\tOptimize platform performance during the peak evening period (around 8 PM) and further analyze early morning/late-night spikes to clarify their nature.\n",
    "'''\n"
   ]
  },
  {
   "cell_type": "code",
   "execution_count": 43,
   "metadata": {},
   "outputs": [],
   "source": [
    "df['server_upload_time'] = pd.to_datetime(df['server_upload_time'], errors='coerce')\n",
    "df['server_received_time'] = pd.to_datetime(df['server_received_time'], errors='coerce')\n",
    "\n",
    "df['processing_delay'] = (df['server_upload_time'] - df['server_received_time']).dt.total_seconds()\n"
   ]
  },
  {
   "cell_type": "code",
   "execution_count": 44,
   "metadata": {},
   "outputs": [
    {
     "data": {
      "image/png": "[encoded data removed]",
      "text/plain": [
       "<Figure size 1200x600 with 1 Axes>"
      ]
     },
     "metadata": {},
     "output_type": "display_data"
    }
   ],
   "source": [
    "df['processing_delay'].plot(kind='hist', bins=50, figsize=(12,6))\n",
    "plt.xlabel(\"Processing Delay (Seconds)\")\n",
    "plt.ylabel(\"Number of Events\")\n",
    "plt.title(\"Distribution of Processing Delays\")\n",
    "plt.show()\n"
   ]
  },
  {
   "cell_type": "markdown",
   "metadata": {},
   "source": [
    "The system processes most events efficiently, with negligible latency.\n",
    "Only a small fraction of events experience delays, but they remain relatively short.\n",
    "There is no widespread backlog of delayed events, indicating a well-optimized backend."
   ]
  },
  {
   "cell_type": "code",
   "execution_count": 45,
   "metadata": {},
   "outputs": [
    {
     "data": {
      "image/png": "[encoded data removed]",
      "text/plain": [
       "<Figure size 1200x600 with 1 Axes>"
      ]
     },
     "metadata": {},
     "output_type": "display_data"
    }
   ],
   "source": [
    "df.groupby(df['server_received_time'].dt.hour)['processing_delay'].mean().plot(kind='bar', figsize=(12,6), color='red')\n",
    "plt.xlabel(\"Hour of Day\")\n",
    "plt.ylabel(\"Average Processing Delay (Seconds)\")\n",
    "plt.title(\"Average Processing Delay by Hour\")\n",
    "plt.show()\n"
   ]
  },
  {
   "cell_type": "markdown",
   "metadata": {},
   "source": [
    "The platform’s backend is well-optimized, and no major performance issues exist.\n",
    "There is no need for immediate processing optimizations, as delays are too small to impact user experience.\n",
    "Even at peak hours, delays are minimal, meaning the system handles concurrent requests efficiently.\n"
   ]
  },
  {
   "cell_type": "code",
   "execution_count": 46,
   "metadata": {},
   "outputs": [
    {
     "data": {
      "text/plain": [
       "event_type\n",
       "submissions:justin_test_submission-definition:configurable-table:render    0.026750\n",
       "submissions:access_control_submission-create::view                         0.021000\n",
       "goals-and-rules:new-goal::save-draft-click                                 0.017000\n",
       "account-lines::contractual-risk-transfer-accordion:selected                0.009429\n",
       "account-property-rating:building-details:buildings-table:edit-click        0.009000\n",
       "account-lines::employee-wage-summary-table-accordion:selected              0.009000\n",
       "account-lines::custom-accordion-editor-62-accordion:selected               0.009000\n",
       "account-lines::custom-accordion-editor-59-accordion:selected               0.009000\n",
       "account-lines::prior-carriers-accordion:selected                           0.008500\n",
       "goals-and-rules:edit-rule::cancel-click                                    0.008429\n",
       "Name: processing_delay, dtype: float64"
      ]
     },
     "execution_count": 46,
     "metadata": {},
     "output_type": "execute_result"
    }
   ],
   "source": [
    "df.groupby('event_type')['processing_delay'].mean().sort_values(ascending=False).head(10)\n"
   ]
  },
  {
   "cell_type": "markdown",
   "metadata": {},
   "source": [
    "There are no significant performance concerns, as all delays are under 20ms.\n",
    "Slightly higher delays in rule-based and submission-related actions could indicate slightly heavier data processing, but nothing alarming.\n",
    "Rendering delays in configurable tables suggest that certain UI elements require extra backend work"
   ]
  },
  {
   "cell_type": "code",
   "execution_count": 47,
   "metadata": {},
   "outputs": [
    {
     "name": "stdout",
     "output_type": "stream",
     "text": [
      "Number of extreme delays: 121906\n",
      "Max processing delay: 1.611\n"
     ]
    },
    {
     "data": {
      "text/html": [
       "<div>\n",
       "<style scoped>\n",
       "    .dataframe tbody tr th:only-of-type {\n",
       "        vertical-align: middle;\n",
       "    }\n",
       "\n",
       "    .dataframe tbody tr th {\n",
       "        vertical-align: top;\n",
       "    }\n",
       "\n",
       "    .dataframe thead th {\n",
       "        text-align: right;\n",
       "    }\n",
       "</style>\n",
       "<table border=\"1\" class=\"dataframe\">\n",
       "  <thead>\n",
       "    <tr style=\"text-align: right;\">\n",
       "      <th></th>\n",
       "      <th>event_type</th>\n",
       "      <th>processing_delay</th>\n",
       "    </tr>\n",
       "  </thead>\n",
       "  <tbody>\n",
       "    <tr>\n",
       "      <th>6</th>\n",
       "      <td>::nav-header:action-center-click</td>\n",
       "      <td>0.019</td>\n",
       "    </tr>\n",
       "    <tr>\n",
       "      <th>7</th>\n",
       "      <td>action-center:::view</td>\n",
       "      <td>0.019</td>\n",
       "    </tr>\n",
       "    <tr>\n",
       "      <th>9</th>\n",
       "      <td>action-center:::close-click</td>\n",
       "      <td>0.013</td>\n",
       "    </tr>\n",
       "    <tr>\n",
       "      <th>156</th>\n",
       "      <td>submissions:all-policy:configurable-table:render</td>\n",
       "      <td>0.013</td>\n",
       "    </tr>\n",
       "    <tr>\n",
       "      <th>158</th>\n",
       "      <td>submissions:all-policy::view</td>\n",
       "      <td>0.013</td>\n",
       "    </tr>\n",
       "    <tr>\n",
       "      <th>160</th>\n",
       "      <td>submissions:policy-definition::view</td>\n",
       "      <td>0.013</td>\n",
       "    </tr>\n",
       "    <tr>\n",
       "      <th>226</th>\n",
       "      <td>:all-accounts:configurable-table:render</td>\n",
       "      <td>0.013</td>\n",
       "    </tr>\n",
       "    <tr>\n",
       "      <th>230</th>\n",
       "      <td>:all-accounts:widget:render</td>\n",
       "      <td>0.013</td>\n",
       "    </tr>\n",
       "    <tr>\n",
       "      <th>234</th>\n",
       "      <td>:all-accounts:layout:render</td>\n",
       "      <td>0.013</td>\n",
       "    </tr>\n",
       "    <tr>\n",
       "      <th>238</th>\n",
       "      <td>:all-accounts::view</td>\n",
       "      <td>0.013</td>\n",
       "    </tr>\n",
       "  </tbody>\n",
       "</table>\n",
       "</div>"
      ],
      "text/plain": [
       "                                           event_type  processing_delay\n",
       "6                    ::nav-header:action-center-click             0.019\n",
       "7                                action-center:::view             0.019\n",
       "9                         action-center:::close-click             0.013\n",
       "156  submissions:all-policy:configurable-table:render             0.013\n",
       "158                      submissions:all-policy::view             0.013\n",
       "160               submissions:policy-definition::view             0.013\n",
       "226           :all-accounts:configurable-table:render             0.013\n",
       "230                       :all-accounts:widget:render             0.013\n",
       "234                       :all-accounts:layout:render             0.013\n",
       "238                               :all-accounts::view             0.013"
      ]
     },
     "execution_count": 47,
     "metadata": {},
     "output_type": "execute_result"
    }
   ],
   "source": [
    "threshold = df['processing_delay'].quantile(0.95)  # 95th percentile\n",
    "df_outliers = df[df['processing_delay'] > threshold]\n",
    "\n",
    "print(\"Number of extreme delays:\", len(df_outliers))\n",
    "print(\"Max processing delay:\", df['processing_delay'].max())\n",
    "df_outliers[['event_type', 'processing_delay']].head(10)\n"
   ]
  },
  {
   "cell_type": "markdown",
   "metadata": {},
   "source": [
    "Even the slowest events have delays that are too small to impact user experience (~80ms max).\n",
    "UI-based operations (rendering, viewing, navigation) have slightly higher delays, but this is expected for actions that involve retrieving or saving UI state.\n",
    "No major bottlenecks or system-wide slowdowns are present—the backend performs efficiently.\n"
   ]
  },
  {
   "cell_type": "markdown",
   "metadata": {},
   "source": [
    "Overall conclusion from server_upload_time analysis\n",
    "\n",
    "The platform's backend is highly efficient, with most events processed instantly (~0 sec delay) and even the slowest events completing within 80ms. UI-related actions (table renders, navigation, user sign-outs) have slightly longer delays (~10-20ms), but these are negligible and do not impact user experience. No significant bottlenecks or system-wide slowdowns were found, indicating that backend performance is well-optimized."
   ]
  },
  {
   "cell_type": "code",
   "execution_count": 48,
   "metadata": {},
   "outputs": [],
   "source": [
    "df['processed_time'] = pd.to_datetime(df['processed_time'], errors='coerce')\n",
    "df['post_upload_delay'] = (df['processed_time'] - df['server_upload_time']).dt.total_seconds()\n"
   ]
  },
  {
   "cell_type": "code",
   "execution_count": 49,
   "metadata": {},
   "outputs": [
    {
     "data": {
      "image/png": "[encoded data removed]",
      "text/plain": [
       "<Figure size 1200x600 with 1 Axes>"
      ]
     },
     "metadata": {},
     "output_type": "display_data"
    }
   ],
   "source": [
    "df['post_upload_delay'].plot(kind='hist', bins=50, figsize=(12,6))\n",
    "plt.xlabel(\"Post-Upload Processing Delay (Seconds)\")\n",
    "plt.ylabel(\"Number of Events\")\n",
    "plt.title(\"Distribution of Post-Upload Processing Delays\")\n",
    "plt.show()"
   ]
  },
  {
   "cell_type": "code",
   "execution_count": 50,
   "metadata": {},
   "outputs": [
    {
     "data": {
      "image/png": "[encoded data removed]",
      "text/plain": [
       "<Figure size 1200x600 with 1 Axes>"
      ]
     },
     "metadata": {},
     "output_type": "display_data"
    }
   ],
   "source": [
    "df.groupby(df['server_upload_time'].dt.hour)['post_upload_delay'].mean().plot(kind='bar', figsize=(12,6), color='green')\n",
    "plt.xlabel(\"Hour of Day\")\n",
    "plt.ylabel(\"Average Post-Upload Delay (Seconds)\")\n",
    "plt.title(\"Average Post-Upload Processing Delay by Hour\")\n",
    "plt.show()\n"
   ]
  },
  {
   "cell_type": "code",
   "execution_count": 51,
   "metadata": {},
   "outputs": [
    {
     "data": {
      "text/plain": [
       "event_type\n",
       "submissions:all-auto_submission:configurable-table:render               300.624500\n",
       "submissions:all-auto_submission::view                                   202.578778\n",
       "account-property-rating::configurable-table:render                      105.381000\n",
       "submissions:triaged_submissions-definition:configurable-table:render     86.722159\n",
       "submissions:triaged_submissions-definition:widget:render                 86.068662\n",
       "submissions:triaged_submissions-definition:layout:render                 84.800044\n",
       "goals-and-rules:edit-goal::create-click                                  83.223000\n",
       "goals-and-rules:rule-definition:configurable-table:render                63.657775\n",
       "account-lines::quote-packages:submit-click                               63.043886\n",
       "goals-and-rules:goals:configurable-table:render                          60.331472\n",
       "Name: post_upload_delay, dtype: float64"
      ]
     },
     "execution_count": 51,
     "metadata": {},
     "output_type": "execute_result"
    }
   ],
   "source": [
    "df.groupby('event_type')['post_upload_delay'].mean().sort_values(ascending=False).head(10)\n"
   ]
  },
  {
   "cell_type": "code",
   "execution_count": 52,
   "metadata": {},
   "outputs": [
    {
     "name": "stdout",
     "output_type": "stream",
     "text": [
      "Number of extreme delays: 136649\n",
      "Max post-upload processing delay: 4362.526\n"
     ]
    },
    {
     "data": {
      "text/html": [
       "<div>\n",
       "<style scoped>\n",
       "    .dataframe tbody tr th:only-of-type {\n",
       "        vertical-align: middle;\n",
       "    }\n",
       "\n",
       "    .dataframe tbody tr th {\n",
       "        vertical-align: top;\n",
       "    }\n",
       "\n",
       "    .dataframe thead th {\n",
       "        text-align: right;\n",
       "    }\n",
       "</style>\n",
       "<table border=\"1\" class=\"dataframe\">\n",
       "  <thead>\n",
       "    <tr style=\"text-align: right;\">\n",
       "      <th></th>\n",
       "      <th>event_type</th>\n",
       "      <th>post_upload_delay</th>\n",
       "    </tr>\n",
       "  </thead>\n",
       "  <tbody>\n",
       "    <tr>\n",
       "      <th>570</th>\n",
       "      <td>action-center:action-details::view</td>\n",
       "      <td>7.583</td>\n",
       "    </tr>\n",
       "    <tr>\n",
       "      <th>1543</th>\n",
       "      <td>submissions:all-policy:configurable-table:render</td>\n",
       "      <td>7.319</td>\n",
       "    </tr>\n",
       "    <tr>\n",
       "      <th>1544</th>\n",
       "      <td>submissions:all-policy::view</td>\n",
       "      <td>7.319</td>\n",
       "    </tr>\n",
       "    <tr>\n",
       "      <th>1814</th>\n",
       "      <td>dashboard:my-book:widget:render</td>\n",
       "      <td>8.057</td>\n",
       "    </tr>\n",
       "    <tr>\n",
       "      <th>1815</th>\n",
       "      <td>dashboard:my-book:configurable-table:render</td>\n",
       "      <td>8.057</td>\n",
       "    </tr>\n",
       "    <tr>\n",
       "      <th>1816</th>\n",
       "      <td>dashboard:my-book:widget:render</td>\n",
       "      <td>8.057</td>\n",
       "    </tr>\n",
       "    <tr>\n",
       "      <th>1817</th>\n",
       "      <td>dashboard:my-book:widget:render</td>\n",
       "      <td>8.057</td>\n",
       "    </tr>\n",
       "    <tr>\n",
       "      <th>1818</th>\n",
       "      <td>dashboard:my-book:layout:render</td>\n",
       "      <td>8.057</td>\n",
       "    </tr>\n",
       "    <tr>\n",
       "      <th>1819</th>\n",
       "      <td>dashboard:my-book::view</td>\n",
       "      <td>8.057</td>\n",
       "    </tr>\n",
       "    <tr>\n",
       "      <th>1820</th>\n",
       "      <td>dashboard:my-book:configurable-table:render</td>\n",
       "      <td>8.057</td>\n",
       "    </tr>\n",
       "  </tbody>\n",
       "</table>\n",
       "</div>"
      ],
      "text/plain": [
       "                                            event_type  post_upload_delay\n",
       "570                 action-center:action-details::view              7.583\n",
       "1543  submissions:all-policy:configurable-table:render              7.319\n",
       "1544                      submissions:all-policy::view              7.319\n",
       "1814                   dashboard:my-book:widget:render              8.057\n",
       "1815       dashboard:my-book:configurable-table:render              8.057\n",
       "1816                   dashboard:my-book:widget:render              8.057\n",
       "1817                   dashboard:my-book:widget:render              8.057\n",
       "1818                   dashboard:my-book:layout:render              8.057\n",
       "1819                           dashboard:my-book::view              8.057\n",
       "1820       dashboard:my-book:configurable-table:render              8.057"
      ]
     },
     "execution_count": 52,
     "metadata": {},
     "output_type": "execute_result"
    }
   ],
   "source": [
    "threshold = df['post_upload_delay'].quantile(0.95)  # 95th percentile\n",
    "df_outliers = df[df['post_upload_delay'] > threshold]\n",
    "\n",
    "print(\"Number of extreme delays:\", len(df_outliers))\n",
    "print(\"Max post-upload processing delay:\", df['post_upload_delay'].max())\n",
    "df_outliers[['event_type', 'post_upload_delay']].head(10)\n"
   ]
  },
  {
   "cell_type": "code",
   "execution_count": 53,
   "metadata": {},
   "outputs": [],
   "source": [
    "# Calculate session end time for each session_id\n",
    "session_end_times = df.groupby('session_id')['server_received_time'].max()\n",
    "\n",
    "# Merge session end time back to original dataframe\n",
    "df = df.merge(session_end_times.rename('session_end_time'), on='session_id')\n",
    "\n",
    "# Compute time left in session (in seconds)\n",
    "df['time_left'] = (df['session_end_time'] - df['server_received_time']).dt.total_seconds()\n"
   ]
  },
  {
   "cell_type": "code",
   "execution_count": 65,
   "metadata": {},
   "outputs": [
    {
     "data": {
      "text/plain": [
       "0                    account-lines::widget:render\n",
       "1                    account-lines::layout:render\n",
       "2        account-lines::configurable-table:render\n",
       "3                            account-lines:::view\n",
       "4                    account-lines::widget:render\n",
       "                           ...                   \n",
       "99995    account-lines::configurable-table:render\n",
       "99996    account-lines::configurable-table:render\n",
       "99997    account-lines::configurable-table:render\n",
       "99998    account-lines::configurable-table:render\n",
       "99999                account-lines::widget:render\n",
       "Name: event_type, Length: 100000, dtype: object"
      ]
     },
     "execution_count": 65,
     "metadata": {},
     "output_type": "execute_result"
    }
   ],
   "source": [
    "df['event_type']"
   ]
  },
  {
   "cell_type": "code",
   "execution_count": null,
   "metadata": {},
   "outputs": [],
   "source": []
  }
 ],
 "metadata": {
  "kernelspec": {
   "display_name": "Python 3",
   "language": "python",
   "name": "python3"
  },
  "language_info": {
   "codemirror_mode": {
    "name": "ipython",
    "version": 3
   },
   "file_extension": ".py",
   "mimetype": "text/x-python",
   "name": "python",
   "nbconvert_exporter": "python",
   "pygments_lexer": "ipython3",
   "version": "3.10.0"
  }
 },
 "nbformat": 4,
 "nbformat_minor": 2
}
